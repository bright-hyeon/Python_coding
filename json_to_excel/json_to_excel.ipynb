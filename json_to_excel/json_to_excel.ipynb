{
 "cells": [
  {
   "cell_type": "code",
   "execution_count": 1,
   "id": "3223ac40",
   "metadata": {},
   "outputs": [],
   "source": [
    "import json\n",
    "import pandas as pd"
   ]
  },
  {
   "cell_type": "code",
   "execution_count": 2,
   "id": "63aea849",
   "metadata": {},
   "outputs": [],
   "source": [
    "with open('./evaluate - 복사본.json') as f:\n",
    "    js = json.loads(f.read())"
   ]
  },
  {
   "cell_type": "code",
   "execution_count": 3,
   "id": "beb0332d",
   "metadata": {},
   "outputs": [],
   "source": [
    "# js"
   ]
  },
  {
   "cell_type": "code",
   "execution_count": 4,
   "id": "9dcf3cd6",
   "metadata": {},
   "outputs": [],
   "source": [
    "js_test = js['evaluate']"
   ]
  },
  {
   "cell_type": "code",
   "execution_count": 5,
   "id": "0463ba41",
   "metadata": {},
   "outputs": [],
   "source": [
    "# js_test?"
   ]
  },
  {
   "cell_type": "code",
   "execution_count": 6,
   "id": "5960d7b5",
   "metadata": {},
   "outputs": [
    {
     "data": {
      "text/plain": [
       "{'01110200': {'label': '01110200',\n",
       "  'tp_count': 0,\n",
       "  'fp_count': 0,\n",
       "  'fn_count': 5,\n",
       "  'tp_iou_avg': 0,\n",
       "  'fp_iou_avg': 0,\n",
       "  'tp_iou_sum': 0,\n",
       "  'fp_iou_sum': 0}}"
      ]
     },
     "execution_count": 6,
     "metadata": {},
     "output_type": "execute_result"
    }
   ],
   "source": [
    "first = js_test['base_zl_20_00001_tx_270152_ty_584774__from_1S_155-160RE']\n",
    "first"
   ]
  },
  {
   "cell_type": "code",
   "execution_count": 7,
   "id": "3f8724e8",
   "metadata": {},
   "outputs": [],
   "source": [
    "second=first['01110200']"
   ]
  },
  {
   "cell_type": "code",
   "execution_count": 8,
   "id": "76906fa4",
   "metadata": {},
   "outputs": [
    {
     "data": {
      "text/plain": [
       "{'label': '01110200',\n",
       " 'tp_count': 0,\n",
       " 'fp_count': 0,\n",
       " 'fn_count': 5,\n",
       " 'tp_iou_avg': 0,\n",
       " 'fp_iou_avg': 0,\n",
       " 'tp_iou_sum': 0,\n",
       " 'fp_iou_sum': 0}"
      ]
     },
     "execution_count": 8,
     "metadata": {},
     "output_type": "execute_result"
    }
   ],
   "source": [
    "second"
   ]
  },
  {
   "cell_type": "code",
   "execution_count": 9,
   "id": "9736182e",
   "metadata": {},
   "outputs": [],
   "source": [
    "column_name = [key for key in second]"
   ]
  },
  {
   "cell_type": "code",
   "execution_count": 10,
   "id": "00aead84",
   "metadata": {},
   "outputs": [
    {
     "data": {
      "text/plain": [
       "['label',\n",
       " 'tp_count',\n",
       " 'fp_count',\n",
       " 'fn_count',\n",
       " 'tp_iou_avg',\n",
       " 'fp_iou_avg',\n",
       " 'tp_iou_sum',\n",
       " 'fp_iou_sum']"
      ]
     },
     "execution_count": 10,
     "metadata": {},
     "output_type": "execute_result"
    }
   ],
   "source": [
    "column_name"
   ]
  },
  {
   "cell_type": "code",
   "execution_count": 11,
   "id": "0cc5940c",
   "metadata": {},
   "outputs": [
    {
     "name": "stdout",
     "output_type": "stream",
     "text": [
      "label\n",
      "tp_count\n",
      "fp_count\n",
      "fn_count\n",
      "tp_iou_avg\n",
      "fp_iou_avg\n",
      "tp_iou_sum\n",
      "fp_iou_sum\n"
     ]
    }
   ],
   "source": [
    "value =[]\n",
    "for i in column_name : \n",
    "    print(i)\n",
    "    value.append(second[i])\n",
    "    \n"
   ]
  },
  {
   "cell_type": "code",
   "execution_count": 12,
   "id": "93b4db83",
   "metadata": {},
   "outputs": [
    {
     "data": {
      "text/plain": [
       "['01110200', 0, 0, 5, 0, 0, 0, 0]"
      ]
     },
     "execution_count": 12,
     "metadata": {},
     "output_type": "execute_result"
    }
   ],
   "source": [
    "value"
   ]
  },
  {
   "cell_type": "code",
   "execution_count": 13,
   "id": "ccd82bac",
   "metadata": {},
   "outputs": [],
   "source": [
    "#이미지 명 추출\n",
    "keys = [key for key in js_test]"
   ]
  },
  {
   "cell_type": "code",
   "execution_count": 14,
   "id": "1487a5ca",
   "metadata": {},
   "outputs": [],
   "source": [
    "df_result = pd.DataFrame(columns=['label','tp_count','fp_count','fn_count','tp_iou_avg', 'fp_iou_avg', 'tp_iou_sum', 'fp_iou_sum'])\n"
   ]
  },
  {
   "cell_type": "code",
   "execution_count": 15,
   "id": "ca03537f",
   "metadata": {},
   "outputs": [
    {
     "data": {
      "text/html": [
       "<div>\n",
       "<style scoped>\n",
       "    .dataframe tbody tr th:only-of-type {\n",
       "        vertical-align: middle;\n",
       "    }\n",
       "\n",
       "    .dataframe tbody tr th {\n",
       "        vertical-align: top;\n",
       "    }\n",
       "\n",
       "    .dataframe thead th {\n",
       "        text-align: right;\n",
       "    }\n",
       "</style>\n",
       "<table border=\"1\" class=\"dataframe\">\n",
       "  <thead>\n",
       "    <tr style=\"text-align: right;\">\n",
       "      <th></th>\n",
       "      <th>label</th>\n",
       "      <th>tp_count</th>\n",
       "      <th>fp_count</th>\n",
       "      <th>fn_count</th>\n",
       "      <th>tp_iou_avg</th>\n",
       "      <th>fp_iou_avg</th>\n",
       "      <th>tp_iou_sum</th>\n",
       "      <th>fp_iou_sum</th>\n",
       "    </tr>\n",
       "  </thead>\n",
       "  <tbody>\n",
       "  </tbody>\n",
       "</table>\n",
       "</div>"
      ],
      "text/plain": [
       "Empty DataFrame\n",
       "Columns: [label, tp_count, fp_count, fn_count, tp_iou_avg, fp_iou_avg, tp_iou_sum, fp_iou_sum]\n",
       "Index: []"
      ]
     },
     "execution_count": 15,
     "metadata": {},
     "output_type": "execute_result"
    }
   ],
   "source": [
    "df_result"
   ]
  },
  {
   "cell_type": "code",
   "execution_count": 16,
   "id": "e82779cb",
   "metadata": {},
   "outputs": [],
   "source": [
    "#df로 변환\n",
    "for a in keys:\n",
    "    first_1=js_test[a]\n",
    "    second_1=first_1['01110200']\n",
    "    value=[]\n",
    "    for i in column_name:\n",
    "        value.append(second_1[i])\n",
    "    df_result.loc[len(df_result)]= value\n",
    "   "
   ]
  },
  {
   "cell_type": "code",
   "execution_count": 17,
   "id": "d81cc76b",
   "metadata": {},
   "outputs": [
    {
     "data": {
      "text/html": [
       "<div>\n",
       "<style scoped>\n",
       "    .dataframe tbody tr th:only-of-type {\n",
       "        vertical-align: middle;\n",
       "    }\n",
       "\n",
       "    .dataframe tbody tr th {\n",
       "        vertical-align: top;\n",
       "    }\n",
       "\n",
       "    .dataframe thead th {\n",
       "        text-align: right;\n",
       "    }\n",
       "</style>\n",
       "<table border=\"1\" class=\"dataframe\">\n",
       "  <thead>\n",
       "    <tr style=\"text-align: right;\">\n",
       "      <th></th>\n",
       "      <th>label</th>\n",
       "      <th>tp_count</th>\n",
       "      <th>fp_count</th>\n",
       "      <th>fn_count</th>\n",
       "      <th>tp_iou_avg</th>\n",
       "      <th>fp_iou_avg</th>\n",
       "      <th>tp_iou_sum</th>\n",
       "      <th>fp_iou_sum</th>\n",
       "    </tr>\n",
       "  </thead>\n",
       "  <tbody>\n",
       "    <tr>\n",
       "      <th>0</th>\n",
       "      <td>01110200</td>\n",
       "      <td>0</td>\n",
       "      <td>0</td>\n",
       "      <td>5</td>\n",
       "      <td>0</td>\n",
       "      <td>0</td>\n",
       "      <td>0</td>\n",
       "      <td>0</td>\n",
       "    </tr>\n",
       "    <tr>\n",
       "      <th>1</th>\n",
       "      <td>01110200</td>\n",
       "      <td>0</td>\n",
       "      <td>0</td>\n",
       "      <td>6</td>\n",
       "      <td>0</td>\n",
       "      <td>0</td>\n",
       "      <td>0</td>\n",
       "      <td>0</td>\n",
       "    </tr>\n",
       "    <tr>\n",
       "      <th>2</th>\n",
       "      <td>01110200</td>\n",
       "      <td>0</td>\n",
       "      <td>0</td>\n",
       "      <td>1</td>\n",
       "      <td>0</td>\n",
       "      <td>0</td>\n",
       "      <td>0</td>\n",
       "      <td>0</td>\n",
       "    </tr>\n",
       "    <tr>\n",
       "      <th>3</th>\n",
       "      <td>01110200</td>\n",
       "      <td>0</td>\n",
       "      <td>0</td>\n",
       "      <td>1</td>\n",
       "      <td>0</td>\n",
       "      <td>0</td>\n",
       "      <td>0</td>\n",
       "      <td>0</td>\n",
       "    </tr>\n",
       "    <tr>\n",
       "      <th>4</th>\n",
       "      <td>01110200</td>\n",
       "      <td>1</td>\n",
       "      <td>0</td>\n",
       "      <td>1</td>\n",
       "      <td>0.827128</td>\n",
       "      <td>0</td>\n",
       "      <td>0.827128</td>\n",
       "      <td>0</td>\n",
       "    </tr>\n",
       "  </tbody>\n",
       "</table>\n",
       "</div>"
      ],
      "text/plain": [
       "      label tp_count fp_count fn_count tp_iou_avg fp_iou_avg tp_iou_sum  \\\n",
       "0  01110200        0        0        5          0          0          0   \n",
       "1  01110200        0        0        6          0          0          0   \n",
       "2  01110200        0        0        1          0          0          0   \n",
       "3  01110200        0        0        1          0          0          0   \n",
       "4  01110200        1        0        1   0.827128          0   0.827128   \n",
       "\n",
       "  fp_iou_sum  \n",
       "0          0  \n",
       "1          0  \n",
       "2          0  \n",
       "3          0  \n",
       "4          0  "
      ]
     },
     "execution_count": 17,
     "metadata": {},
     "output_type": "execute_result"
    }
   ],
   "source": [
    "df_result.head()"
   ]
  },
  {
   "cell_type": "code",
   "execution_count": 155,
   "id": "5c7d048a",
   "metadata": {},
   "outputs": [],
   "source": [
    "df_result.to_excel('deeplabv3_again.xlsx',encoding='utf-8')"
   ]
  },
  {
   "cell_type": "code",
   "execution_count": null,
   "id": "83d3b1cd",
   "metadata": {},
   "outputs": [],
   "source": []
  }
 ],
 "metadata": {
  "kernelspec": {
   "display_name": "base",
   "language": "python",
   "name": "python3"
  },
  "language_info": {
   "codemirror_mode": {
    "name": "ipython",
    "version": 3
   },
   "file_extension": ".py",
   "mimetype": "text/x-python",
   "name": "python",
   "nbconvert_exporter": "python",
   "pygments_lexer": "ipython3",
   "version": "3.9.7"
  },
  "vscode": {
   "interpreter": {
    "hash": "43fc4f96cd9824b53104b7d9e77c0a4d645fc92ac23b087c0f449a07f4cbb1c4"
   }
  }
 },
 "nbformat": 4,
 "nbformat_minor": 5
}
