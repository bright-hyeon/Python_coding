{
 "cells": [
  {
   "cell_type": "code",
   "execution_count": 1,
   "id": "b87c937a",
   "metadata": {},
   "outputs": [],
   "source": [
    "import os\n",
    "import pandas as pd\n",
    "import shutil"
   ]
  },
  {
   "cell_type": "code",
   "execution_count": 3,
   "id": "3accb770",
   "metadata": {},
   "outputs": [],
   "source": [
    "#사진 파일\n",
    "file_list=os.listdir('../unet')\n",
    "# file_list"
   ]
  },
  {
   "cell_type": "code",
   "execution_count": 4,
   "id": "1eaef3e7",
   "metadata": {},
   "outputs": [
    {
     "data": {
      "text/plain": [
       "2446"
      ]
     },
     "execution_count": 4,
     "metadata": {},
     "output_type": "execute_result"
    }
   ],
   "source": [
    "#사진 개수\n",
    "size = len(file_list)\n",
    "size"
   ]
  },
  {
   "cell_type": "code",
   "execution_count": 5,
   "id": "1bf4b3ac",
   "metadata": {},
   "outputs": [],
   "source": [
    "#추출 대상 이미지 리스트\n",
    "df = pd.read_excel('C:/Users/miso/Desktop/unet/target_unet.xlsx', header = None)"
   ]
  },
  {
   "cell_type": "code",
   "execution_count": null,
   "id": "5d421189",
   "metadata": {},
   "outputs": [],
   "source": [
    "# df"
   ]
  },
  {
   "cell_type": "code",
   "execution_count": 6,
   "id": "bf9e39f0",
   "metadata": {},
   "outputs": [
    {
     "data": {
      "text/plain": [
       "'base_zl_20_25008_tx_238869_ty_258570__from_5S_490_513.png'"
      ]
     },
     "execution_count": 6,
     "metadata": {},
     "output_type": "execute_result"
    }
   ],
   "source": [
    "df[0][1]"
   ]
  },
  {
   "cell_type": "code",
   "execution_count": 7,
   "id": "a2aa1580",
   "metadata": {},
   "outputs": [],
   "source": [
    "for i in range(len(df)):\n",
    "#     print(df[0][i])\n",
    "    file_name = df[0][i]\n",
    "    try:\n",
    "        shutil.move(f\"../unet/{file_name}\",f\"../target_unet/{file_name}\")\n",
    "    except :\n",
    "        # print(file_name, \"-----실패\")\n",
    "        pass\n",
    "  \n",
    "    "
   ]
  },
  {
   "cell_type": "code",
   "execution_count": 9,
   "id": "e0699b56",
   "metadata": {},
   "outputs": [],
   "source": [
    "#이동 후 사진 파일확인\n",
    "new_file_list=os.listdir('../target_unet')\n",
    "# new_file_list"
   ]
  },
  {
   "cell_type": "code",
   "execution_count": 10,
   "id": "dcbea79b",
   "metadata": {},
   "outputs": [],
   "source": [
    "#이동한 사진 개수\n",
    "new_size = len(new_file_list)\n",
    "# new_size"
   ]
  },
  {
   "cell_type": "code",
   "execution_count": 11,
   "id": "af675503",
   "metadata": {},
   "outputs": [
    {
     "data": {
      "text/plain": [
       "234"
      ]
     },
     "execution_count": 11,
     "metadata": {},
     "output_type": "execute_result"
    }
   ],
   "source": [
    "4955-new_size"
   ]
  },
  {
   "cell_type": "code",
   "execution_count": 12,
   "id": "2fdfd2f5",
   "metadata": {},
   "outputs": [],
   "source": [
    "#234개 파일은 존재하지 않음"
   ]
  },
  {
   "cell_type": "code",
   "execution_count": null,
   "id": "7855aa5b",
   "metadata": {},
   "outputs": [],
   "source": []
  }
 ],
 "metadata": {
  "kernelspec": {
   "display_name": "base",
   "language": "python",
   "name": "python3"
  },
  "language_info": {
   "codemirror_mode": {
    "name": "ipython",
    "version": 3
   },
   "file_extension": ".py",
   "mimetype": "text/x-python",
   "name": "python",
   "nbconvert_exporter": "python",
   "pygments_lexer": "ipython3",
   "version": "3.9.7"
  },
  "vscode": {
   "interpreter": {
    "hash": "43fc4f96cd9824b53104b7d9e77c0a4d645fc92ac23b087c0f449a07f4cbb1c4"
   }
  }
 },
 "nbformat": 4,
 "nbformat_minor": 5
}
